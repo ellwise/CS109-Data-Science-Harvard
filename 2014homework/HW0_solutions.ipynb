








<!DOCTYPE html>
<html lang="en">

<head>
  <meta charset="utf-8">
  <title>Jupyter Notebook Viewer</title>
  <meta name="viewport" content="width=device-width, initial-scale=1.0">
  <meta name="description" content="">
  <meta name="author" content="">
  
  <meta name="robots" content="noindex,nofollow">
  

  <!--NEW RELIC Start Perf Measurement-->
  
  <!--NREND-->

  <!-- Le styles -->
  <link href="/static/build/styles.css?v=f2b0b1b8f36a035146061040aa080202" rel="stylesheet">

  <!-- Le HTML5 shim, for IE6-8 support of HTML5 elements -->
  <!--[if lt IE 9]>
    <script src="http://html5shim.googlecode.com/svn/trunk/html5.js"></script>
  <![endif]-->

  <!-- Le fav and touch icons -->
  <link rel="shortcut icon" href="/static/ico/ipynb_icon_16x16.png">
  <link rel="apple-touch-icon-precomposed" sizes="144x144"
        href="/static/ico/apple-touch-icon-144-precomposed.png?v=5a3c9ede93e2a8b8ea9e3f8f3da1a905">
  <link rel="apple-touch-icon-precomposed" sizes="114x114"
        href="/static/ico/apple-touch-icon-114-precomposed.png?v=45d86fc8f24dc00638035e1dd7a6d898">
  <link rel="apple-touch-icon-precomposed" sizes="72x72"
        href="/static/ico/apple-touch-icon-72-precomposed.png?v=540b5eb0f3cfd25f1439d1c9bd30e15f">
  <link rel="apple-touch-icon-precomposed"
        href="/static/ico/apple-touch-icon-57-precomposed.png?v=225f0590e187e1458625654f10a28f56">
  
  

  

  
  <meta name="twitter:card" content="summary">
  <meta name="twitter:title" content="Notebook on nbviewer">
  <meta name="twitter:description" content="Check out this Jupyter notebook!">

  
  <meta name="twitter:domain" content="nbviewer.jupyter.org">
  <meta name="twitter:image:src" content="http://ipython.org/ipython-doc/dev/_images/ipynb_icon_128x128.png">

  
    <link href="/static/build/notebook.css?v=81e0139371f853f9af20339dc0bcfaa6" rel="stylesheet">
  

  

  
    <script src="https://cdnjs.cloudflare.com/ajax/libs/mathjax/2.7.1/MathJax.js?config=TeX-AMS_HTML" type="text/javascript">
    </script>
    <script type="text/javascript">
      init_mathjax = function() {
        if (window.MathJax) {
          // MathJax loaded
          MathJax.Hub.Config({
            TeX: {
              equationNumbers: {
                autoNumber: "AMS",
                useLabelIds: true
              }
            },
            tex2jax: {
              inlineMath: [ ['$','$'], ["\\(","\\)"] ],
              displayMath: [ ['$$','$$'], ["\\[","\\]"] ],
              processEscapes: true,
              processEnvironments: true
            },
            displayAlign: 'center',
            "HTML-CSS": {
              styles: {'.MathJax_Display': {"margin": 0}},
              linebreaks: { automatic: true }
            }
          });
          MathJax.Hub.Queue(["Typeset", MathJax.Hub]);
        }
      }
      init_mathjax();
    </script>
  

  
    <script>
      (function() {
        function addWidgetsRenderer() {
          var mimeElement = document.querySelector('script[type="application/vnd.jupyter.widget-view+json"]');
          var scriptElement = document.createElement('script');
          var widgetRendererSrc = 'https://unpkg.com/@jupyter-widgets/html-manager@*/dist/embed-amd.js';
          var widgetState;

          try {
            widgetState = mimeElement && JSON.parse(mimeElement.innerHTML);

            if (widgetState && (widgetState.version_major < 2 || !widgetState.version_major)) {
              widgetRendererSrc = 'https://unpkg.com/jupyter-js-widgets@*/dist/embed.js';
            }
          } catch(e) {}

          scriptElement.src = widgetRendererSrc;
          document.body.appendChild(scriptElement);
        }

        document.addEventListener('DOMContentLoaded', addWidgetsRenderer);
      }());
    </script>
  

</head>

<body class="nbviewer">

  <!-- These are loaded at the top of the body so they are available to
       notebook cells when they are loaded below. -->
  <script src="/static/components/jquery/dist/jquery.min.js?v=a09e13ee94d51c524b7e2a728c7d4039"></script>
  <script src="/static/components/requirejs/require.js?v=6da8be361b9ee26c5e721e76c6d4afce"></script>
  <script src="/static/components/moment/min/moment.min.js?v=89f87298ad94aa1e6b92f42eb66da043"></script>
<!-- Navbar
================================================== -->
  <nav id="menubar" class="navbar navbar-default navbar-fixed-top" data-spy="affix">
    <div class="container">
      <div class="navbar-header">
        <button type="button" class="navbar-toggle collapsed" data-toggle="collapse" data-target=".navbar-collapse">
          <span class="sr-only">Toggle navigation</span>
          <i class="fa fa-bars"></i>
        </button>
        <a class="navbar-brand" href="/">
          <img src="/static/img/nav_logo.svg?v=479cefe8d932fb14a67b93911b97d70f" width="159"/>
        </a>
      </div>

      <div class="collapse navbar-collapse">
        <ul class="nav navbar-nav navbar-right">
          <li>
            <a class="active" href="http://jupyter.org">JUPYTER</a>
          </li>
          <li>
    <a href="/faq" title="FAQ" >
      
        <span>FAQ</span>
      
    </a>
  </li>

          
  
    
  
    
      
        <li>
    <a href="/format/script/github/cs109/2014/blob/master/homework-solutions/HW0_solutions.ipynb" title="View as Code" >
      <span class="fa fa-code fa-2x menu-icon"></span>
      <span class="menu-text">View as Code</span>
    </a>
  </li>
      
    
  

  

  
    <li>
    <a href="https://github.com/cs109/2014/blob/master/homework-solutions/HW0_solutions.ipynb" title="View on GitHub" >
      <span class="fa fa-github fa-2x menu-icon"></span>
      <span class="menu-text">View on GitHub</span>
    </a>
  </li>
  

  
    <li>
    <a href="https://mybinder.org/v2/gh/cs109/2014/master?filepath=homework-solutions/HW0_solutions.ipynb" title="Execute on Binder" >
      <span class="fa fa-icon-binder fa-2x menu-icon"></span>
      <span class="menu-text">Execute on Binder</span>
    </a>
  </li>
  

  <li>
    <a href="https://raw.githubusercontent.com/cs109/2014/master/homework-solutions/HW0_solutions.ipynb" title="Download Notebook" download>
      <span class="fa fa-download fa-2x menu-icon"></span>
      <span class="menu-text">Download Notebook</span>
    </a>
  </li>

        </ul>
      </div><!-- /.navbar-collapse -->
      
      
    </div>
  </nav>

  <div class="container container-main">
    
  
  <ol class="breadcrumb">
    
      <li>
        <a href="/github/cs109/2014/tree/master">2014</a>
      </li>
    
      <li>
        <a href="/github/cs109/2014/tree/master/homework-solutions">homework-solutions</a>
      </li>
    
  </ol>
  
  <div id="notebook">
    <div id="notebook-container">
      
<div class="cell border-box-sizing text_cell rendered"><div class="prompt input_prompt">
</div>
<div class="inner_cell">
<div class="text_cell_render border-box-sizing rendered_html">
<h1 id="Homework-0">Homework 0<a class="anchor-link" href="#Homework-0">&#182;</a></h1><h3 id="Due-Tuesday,-September-9,-2014-(but-no-submission-is-required)">Due Tuesday, September 9, 2014 (but no submission is required)<a class="anchor-link" href="#Due-Tuesday,-September-9,-2014-(but-no-submission-is-required)">&#182;</a></h3><hr>
<p>Welcome to CS109 / STAT121 / AC209 / E-109 (<a href="http://cs109.github.io/2014/">http://cs109.github.io/2014/</a>).  In this class, we will be using a variety of tools that will require some initial configuration. To ensure everything goes smoothly moving forward, we will setup the majority of those tools in this homework. While some of this will likely be dull, doing it now will enable us to do more exciting work in the weeks that follow without getting bogged down in further software configuration. This homework will not be graded, however it is essential that you complete it timely since it will enable us to set up your accounts. You do not have to hand anything in, with the exception of filling out the online survey.</p>
<h2 id="Class-Survey,-Piazza,-and-Introduction">Class Survey, Piazza, and Introduction<a class="anchor-link" href="#Class-Survey,-Piazza,-and-Introduction">&#182;</a></h2><p><strong>Class Survey</strong></p>
<p>Please complete the mandatory course survey located <a href="https://docs.google.com/forms/d/1uAxk4am1HZFh15Y8zdGpBm5hGTTmX3IGkBkD3foTbv0/viewform?usp=send_form">here</a>. It should only take a few moments of your time. Once you fill in the survey we will sign you up to the course forum on Piazza and the dropbox system that you will use to hand in the homework. It is imperative that you fill out the survey on time as we use the provided information to sign you up for these services.</p>
<p><strong>Piazza</strong></p>
<p>Go to <a href="https://piazza.com/harvard/fall2014/cs109">Piazza</a> and sign up for the class using your Harvard e-mail address.</p>
<p>You will use Piazza as a forum for discussion, to find team members, to arrange appointments, and to ask questions. Piazza should be your primary form of communication with the staff. Use the staff e-mail (<a href="/cdn-cgi/l/email-protection" class="__cf_email__" data-cfemail="43303722252503203072737a6d2c3124">[email&#160;protected]</a>) only for individual requests, e.g., to excuse yourself from a mandatory guest lecture. All readings, homeworks, and project descriptions will be announced on Piazza first.</p>
<p><strong>Introduction</strong></p>
<p>Once you are signed up to the Piazza course forum, introduce yourself to your classmates and course staff with a follow-up post in the introduction thread. Include your name/nickname, your affiliation, why you are taking this course, and tell us something interesting about yourself (e.g., an industry job, an unusual hobby, past travels, or a cool project you did, etc.). Also tell us whether you have experience with data science.</p>
<h2 id="Programming-expectations">Programming expectations<a class="anchor-link" href="#Programming-expectations">&#182;</a></h2><p>All the assignments and labs for this class will use Python and, for the most part, the browser-based IPython notebook format you are currently viewing. Knowledge of Python is not a prerequisite for this course, <strong>provided you are comfortable learning on your own as needed</strong>. While we have strived to make the programming component of this course straightforward, we will not devote much time to teaching prorgramming or Python syntax. Basically, you should feel comfortable with:</p>
<ul>
<li>How to look up Python syntax on Google and StackOverflow.</li>
<li>Basic programming concepts like functions, loops, arrays, dictionaries, strings, and if statements.</li>
<li>How to learn new libraries by reading documentation.</li>
<li>Asking questions on StackOverflow or Piazza.</li>
</ul>
<p>There are many online tutorials to introduce you to scientific python programming. <a href="https://github.com/jrjohansson/scientific-python-lectures">Here is one</a> that is very nice. Lectures 1-4 are most relevant to this class.</p>
<h2 id="Getting-Python">Getting Python<a class="anchor-link" href="#Getting-Python">&#182;</a></h2><p>You will be using Python throughout the course, including many popular 3rd party Python libraries for scientific computing. <a href="http://continuum.io/downloads">Anaconda</a> is an easy-to-install bundle of Python and most of these libraries. We recommend that you use Anaconda for this course.</p>
<p>Please visit <a href="https://github.com/cs109/content/wiki/Installing-Python">this page</a> and follow the instructions to set up Python.</p>
<hline>

<h2 id="Hello,-Python">Hello, Python<a class="anchor-link" href="#Hello,-Python">&#182;</a></h2><p>The IPython notebook is an application to build interactive computational notebooks. You'll be using them to complete labs and homework. Once you've set up Python, please download this HW0 ipython notebook and open it with IPython by typing</p>

<pre><code>ipython notebook &lt;name_of_downloaded_file&gt;</code></pre>
<p>For the rest of the assignment, use your local copy of this page, running on IPython.</p>
<p>Notebooks are composed of many "cells", which can contain text (like this one), or code (like the one below). Double click on the cell below, and evaluate it by clicking the "play" button above, for by hitting shift + enter</p>

</div>
</div>
</div>
<div class="cell border-box-sizing code_cell rendered">
<div class="input">
<div class="prompt input_prompt">In&nbsp;[1]:</div>
<div class="inner_cell">
    <div class="input_area">
<div class=" highlight hl-ipython3"><pre><span></span><span class="n">x</span> <span class="o">=</span> <span class="p">[</span><span class="mi">10</span><span class="p">,</span> <span class="mi">20</span><span class="p">,</span> <span class="mi">30</span><span class="p">,</span> <span class="mi">40</span><span class="p">,</span> <span class="mi">50</span><span class="p">]</span>
<span class="k">for</span> <span class="n">item</span> <span class="ow">in</span> <span class="n">x</span><span class="p">:</span>
    <span class="nb">print</span> <span class="s2">&quot;Item is &quot;</span><span class="p">,</span> <span class="n">item</span>
</pre></div>

</div>
</div>
</div>

<div class="output_wrapper">
<div class="output">


<div class="output_area">

<div class="prompt"></div>


<div class="output_subarea output_stream output_stdout output_text">
<pre>Item is  10
Item is  20
Item is  30
Item is  40
Item is  50
</pre>
</div>
</div>

</div>
</div>

</div>
<div class="cell border-box-sizing text_cell rendered"><div class="prompt input_prompt">
</div>
<div class="inner_cell">
<div class="text_cell_render border-box-sizing rendered_html">
<h2 id="Python-Libraries">Python Libraries<a class="anchor-link" href="#Python-Libraries">&#182;</a></h2><p>We will be using a several different libraries throughout this course. If you've successfully completed the <a href="https://github.com/cs109/content/wiki/Installing-Python">installation instructions</a>, all of the following statements should run.</p>

</div>
</div>
</div>
<div class="cell border-box-sizing code_cell rendered">
<div class="input">
<div class="prompt input_prompt">In&nbsp;[2]:</div>
<div class="inner_cell">
    <div class="input_area">
<div class=" highlight hl-ipython3"><pre><span></span><span class="c1">#IPython is what you are using now to run the notebook</span>
<span class="kn">import</span> <span class="nn">IPython</span>
<span class="nb">print</span> <span class="s2">&quot;IPython version:      </span><span class="si">%6.6s</span><span class="s2"> (need at least 2.1.0)&quot;</span> <span class="o">%</span> <span class="n">IPython</span><span class="o">.</span><span class="n">__version__</span>

<span class="c1"># Numpy is a library for working with Arrays</span>
<span class="kn">import</span> <span class="nn">numpy</span> <span class="k">as</span> <span class="nn">np</span>
<span class="nb">print</span> <span class="s2">&quot;Numpy version:        </span><span class="si">%6.6s</span><span class="s2"> (need at least 1.8.1)&quot;</span> <span class="o">%</span> <span class="n">np</span><span class="o">.</span><span class="n">__version__</span>

<span class="c1"># SciPy implements many different numerical algorithms</span>
<span class="kn">import</span> <span class="nn">scipy</span> <span class="k">as</span> <span class="nn">sp</span>
<span class="nb">print</span> <span class="s2">&quot;SciPy version:        </span><span class="si">%6.6s</span><span class="s2"> (need at least 0.14.0)&quot;</span> <span class="o">%</span> <span class="n">sp</span><span class="o">.</span><span class="n">__version__</span>

<span class="c1"># Pandas makes working with data tables easier</span>
<span class="kn">import</span> <span class="nn">pandas</span> <span class="k">as</span> <span class="nn">pd</span>
<span class="nb">print</span> <span class="s2">&quot;Pandas version:       </span><span class="si">%6.6s</span><span class="s2"> (need at least 0.14.0)&quot;</span> <span class="o">%</span> <span class="n">pd</span><span class="o">.</span><span class="n">__version__</span>

<span class="c1"># Module for plotting</span>
<span class="kn">import</span> <span class="nn">matplotlib</span>
<span class="nb">print</span> <span class="s2">&quot;Mapltolib version:    </span><span class="si">%6.6s</span><span class="s2"> (need at least 1.3.1)&quot;</span> <span class="o">%</span> <span class="n">matplotlib</span><span class="o">.</span><span class="n">__version__</span>

<span class="c1"># SciKit Learn implements several Machine Learning algorithms</span>
<span class="kn">import</span> <span class="nn">sklearn</span>
<span class="nb">print</span> <span class="s2">&quot;Scikit-Learn version: </span><span class="si">%6.6s</span><span class="s2"> (need at least 0.14.1)&quot;</span> <span class="o">%</span> <span class="n">sklearn</span><span class="o">.</span><span class="n">__version__</span>

<span class="c1"># Requests is a library for getting data from the Web</span>
<span class="kn">import</span> <span class="nn">requests</span>
<span class="nb">print</span> <span class="s2">&quot;requests version:     </span><span class="si">%6.6s</span><span class="s2"> (need at least 2.3.0)&quot;</span> <span class="o">%</span> <span class="n">requests</span><span class="o">.</span><span class="n">__version__</span>

<span class="c1"># Networkx is a library for working with networks</span>
<span class="kn">import</span> <span class="nn">networkx</span> <span class="k">as</span> <span class="nn">nx</span>
<span class="nb">print</span> <span class="s2">&quot;NetworkX version:     </span><span class="si">%6.6s</span><span class="s2"> (need at least 1.8.1)&quot;</span> <span class="o">%</span> <span class="n">nx</span><span class="o">.</span><span class="n">__version__</span>

<span class="c1">#BeautifulSoup is a library to parse HTML and XML documents</span>
<span class="kn">import</span> <span class="nn">bs4</span>
<span class="nb">print</span> <span class="s2">&quot;BeautifulSoup version:</span><span class="si">%6.6s</span><span class="s2"> (need at least 4.0)&quot;</span> <span class="o">%</span> <span class="n">bs4</span><span class="o">.</span><span class="n">__version__</span>

<span class="c1">#MrJob is a library to run map reduce jobs on Amazon&#39;s computers</span>
<span class="kn">import</span> <span class="nn">mrjob</span>
<span class="nb">print</span> <span class="s2">&quot;Mr Job version:       </span><span class="si">%6.6s</span><span class="s2"> (need at least 0.4.2)&quot;</span> <span class="o">%</span> <span class="n">mrjob</span><span class="o">.</span><span class="n">__version__</span>

<span class="c1">#Pattern has lots of tools for working with data from the internet</span>
<span class="kn">import</span> <span class="nn">pattern</span>
<span class="nb">print</span> <span class="s2">&quot;Pattern version:      </span><span class="si">%6.6s</span><span class="s2"> (need at least 2.6)&quot;</span> <span class="o">%</span> <span class="n">pattern</span><span class="o">.</span><span class="n">__version__</span>
</pre></div>

</div>
</div>
</div>

<div class="output_wrapper">
<div class="output">


<div class="output_area">

<div class="prompt"></div>


<div class="output_subarea output_stream output_stdout output_text">
<pre>IPython version:       2.1.0 (need at least 2.1.0)
Numpy version:         1.8.1 (need at least 1.8.1)
SciPy version:        0.14.0 (need at least 0.14.0)
Pandas version:       0.14.0 (need at least 0.14.0)
Mapltolib version:     1.3.1 (need at least 1.3.1)
Scikit-Learn version: 0.14.1 (need at least 0.14.1)
requests version:      2.3.0 (need at least 2.3.0)
NetworkX version:      1.8.1 (need at least 1.8.1)
BeautifulSoup version: 4.3.1 (need at least 4.0)
Mr Job version:        0.4.2 (need at least 0.4.2)
Pattern version:         2.6 (need at least 2.6)
</pre>
</div>
</div>

</div>
</div>

</div>
<div class="cell border-box-sizing text_cell rendered"><div class="prompt input_prompt">
</div>
<div class="inner_cell">
<div class="text_cell_render border-box-sizing rendered_html">
<p>If any of these libraries are missing or out of date, you will need to <a href="https://github.com/cs109/content/wiki/Installing-Python#installing-additional-libraries">install them</a> and restart IPython</p>

</div>
</div>
</div>
<div class="cell border-box-sizing text_cell rendered"><div class="prompt input_prompt">
</div>
<div class="inner_cell">
<div class="text_cell_render border-box-sizing rendered_html">
<h2 id="Hello-matplotlib">Hello matplotlib<a class="anchor-link" href="#Hello-matplotlib">&#182;</a></h2>
</div>
</div>
</div>
<div class="cell border-box-sizing text_cell rendered"><div class="prompt input_prompt">
</div>
<div class="inner_cell">
<div class="text_cell_render border-box-sizing rendered_html">
<p>The notebook integrates nicely with Matplotlib, the primary plotting package for python. This should embed a figure of a sine wave:</p>

</div>
</div>
</div>
<div class="cell border-box-sizing code_cell rendered">
<div class="input">
<div class="prompt input_prompt">In&nbsp;[3]:</div>
<div class="inner_cell">
    <div class="input_area">
<div class=" highlight hl-ipython3"><pre><span></span><span class="c1">#this line prepares IPython for working with matplotlib</span>
<span class="o">%</span><span class="k">matplotlib</span> inline  

<span class="c1"># this actually imports matplotlib</span>
<span class="kn">import</span> <span class="nn">matplotlib.pyplot</span> <span class="k">as</span> <span class="nn">plt</span>  

<span class="n">x</span> <span class="o">=</span> <span class="n">np</span><span class="o">.</span><span class="n">linspace</span><span class="p">(</span><span class="mi">0</span><span class="p">,</span> <span class="mi">10</span><span class="p">,</span> <span class="mi">30</span><span class="p">)</span>  <span class="c1">#array of 30 points from 0 to 10</span>
<span class="n">y</span> <span class="o">=</span> <span class="n">np</span><span class="o">.</span><span class="n">sin</span><span class="p">(</span><span class="n">x</span><span class="p">)</span>
<span class="n">z</span> <span class="o">=</span> <span class="n">y</span> <span class="o">+</span> <span class="n">np</span><span class="o">.</span><span class="n">random</span><span class="o">.</span><span class="n">normal</span><span class="p">(</span><span class="n">size</span><span class="o">=</span><span class="mi">30</span><span class="p">)</span> <span class="o">*</span> <span class="o">.</span><span class="mi">2</span>
<span class="n">plt</span><span class="o">.</span><span class="n">plot</span><span class="p">(</span><span class="n">x</span><span class="p">,</span> <span class="n">y</span><span class="p">,</span> <span class="s1">&#39;ro-&#39;</span><span class="p">,</span> <span class="n">label</span><span class="o">=</span><span class="s1">&#39;A sine wave&#39;</span><span class="p">)</span>
<span class="n">plt</span><span class="o">.</span><span class="n">plot</span><span class="p">(</span><span class="n">x</span><span class="p">,</span> <span class="n">z</span><span class="p">,</span> <span class="s1">&#39;b-&#39;</span><span class="p">,</span> <span class="n">label</span><span class="o">=</span><span class="s1">&#39;Noisy sine&#39;</span><span class="p">)</span>
<span class="n">plt</span><span class="o">.</span><span class="n">legend</span><span class="p">(</span><span class="n">loc</span> <span class="o">=</span> <span class="s1">&#39;lower right&#39;</span><span class="p">)</span>
<span class="n">plt</span><span class="o">.</span><span class="n">xlabel</span><span class="p">(</span><span class="s2">&quot;X axis&quot;</span><span class="p">)</span>
<span class="n">plt</span><span class="o">.</span><span class="n">ylabel</span><span class="p">(</span><span class="s2">&quot;Y axis&quot;</span><span class="p">)</span>           
</pre></div>

</div>
</div>
</div>

<div class="output_wrapper">
<div class="output">


<div class="output_area">

<div class="prompt output_prompt">Out[3]:</div>




<div class="output_text output_subarea output_execute_result">
<pre>&lt;matplotlib.text.Text at 0x107d90cd0&gt;</pre>
</div>

</div>

<div class="output_area">

<div class="prompt"></div>




<div class="output_png output_subarea ">
<img src="data:image/png;base64,iVBORw0KGgoAAAANSUhEUgAAAYwAAAEPCAYAAABRHfM8AAAABHNCSVQICAgIfAhkiAAAAAlwSFlz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"
>
</div>

</div>

</div>
</div>

</div>
<div class="cell border-box-sizing text_cell rendered"><div class="prompt input_prompt">
</div>
<div class="inner_cell">
<div class="text_cell_render border-box-sizing rendered_html">
<p>If that last cell complained about the <code>%matplotlib</code> line, you need to update IPython to v1.0, and restart the notebook. See the <a href="https://github.com/cs109/content/wiki/Installing-Python">installation page</a></p>

</div>
</div>
</div>
<div class="cell border-box-sizing text_cell rendered"><div class="prompt input_prompt">
</div>
<div class="inner_cell">
<div class="text_cell_render border-box-sizing rendered_html">
<h2 id="Hello-Numpy">Hello Numpy<a class="anchor-link" href="#Hello-Numpy">&#182;</a></h2><p>The Numpy array processing library is the basis of nearly all numerical computing in Python. Here's a 30 second crash course. For more details, consult Chapter 4 of Python for Data Analysis, or the <a href="http://docs.scipy.org/doc/numpy-dev/user/index.html">Numpy User's Guide</a></p>

</div>
</div>
</div>
<div class="cell border-box-sizing code_cell rendered">
<div class="input">
<div class="prompt input_prompt">In&nbsp;[4]:</div>
<div class="inner_cell">
    <div class="input_area">
<div class=" highlight hl-ipython3"><pre><span></span><span class="nb">print</span> <span class="s2">&quot;Make a 3 row x 4 column array of random numbers&quot;</span>
<span class="n">x</span> <span class="o">=</span> <span class="n">np</span><span class="o">.</span><span class="n">random</span><span class="o">.</span><span class="n">random</span><span class="p">((</span><span class="mi">3</span><span class="p">,</span> <span class="mi">4</span><span class="p">))</span>
<span class="nb">print</span> <span class="n">x</span>
<span class="nb">print</span>

<span class="nb">print</span> <span class="s2">&quot;Add 1 to every element&quot;</span>
<span class="n">x</span> <span class="o">=</span> <span class="n">x</span> <span class="o">+</span> <span class="mi">1</span>
<span class="nb">print</span> <span class="n">x</span>
<span class="nb">print</span>

<span class="nb">print</span> <span class="s2">&quot;Get the element at row 1, column 2&quot;</span>
<span class="nb">print</span> <span class="n">x</span><span class="p">[</span><span class="mi">1</span><span class="p">,</span> <span class="mi">2</span><span class="p">]</span>
<span class="nb">print</span>

<span class="c1"># The colon syntax is called &quot;slicing&quot; the array. </span>
<span class="nb">print</span> <span class="s2">&quot;Get the first row&quot;</span>
<span class="nb">print</span> <span class="n">x</span><span class="p">[</span><span class="mi">0</span><span class="p">,</span> <span class="p">:]</span>
<span class="nb">print</span>

<span class="nb">print</span> <span class="s2">&quot;Get every 2nd column of the first row&quot;</span>
<span class="nb">print</span> <span class="n">x</span><span class="p">[</span><span class="mi">0</span><span class="p">,</span> <span class="p">::</span><span class="mi">2</span><span class="p">]</span>
<span class="nb">print</span>
</pre></div>

</div>
</div>
</div>

<div class="output_wrapper">
<div class="output">


<div class="output_area">

<div class="prompt"></div>


<div class="output_subarea output_stream output_stdout output_text">
<pre>Make a 3 row x 4 column array of random numbers
[[ 0.71853045  0.76770539  0.73119281  0.57372986]
 [ 0.12279336  0.22064143  0.83976143  0.71010635]
 [ 0.22286463  0.28481061  0.00411079  0.65727647]]

Add 1 to every element
[[ 1.71853045  1.76770539  1.73119281  1.57372986]
 [ 1.12279336  1.22064143  1.83976143  1.71010635]
 [ 1.22286463  1.28481061  1.00411079  1.65727647]]

Get the element at row 1, column 2
1.83976143009

Get the first row
[ 1.71853045  1.76770539  1.73119281  1.57372986]

Get every 2nd column of the first row
[ 1.71853045  1.73119281]

</pre>
</div>
</div>

</div>
</div>

</div>
<div class="cell border-box-sizing text_cell rendered"><div class="prompt input_prompt">
</div>
<div class="inner_cell">
<div class="text_cell_render border-box-sizing rendered_html">
<p>Print the maximum, minimum, and mean of the array. This does <strong>not</strong> require writing a loop. In the code cell below, type <code>x.m&lt;TAB&gt;</code>, to find built-in operations for common array statistics like this</p>

</div>
</div>
</div>
<div class="cell border-box-sizing code_cell rendered">
<div class="input">
<div class="prompt input_prompt">In&nbsp;[5]:</div>
<div class="inner_cell">
    <div class="input_area">
<div class=" highlight hl-ipython3"><pre><span></span><span class="c1">#your code here</span>
<span class="nb">print</span> <span class="s2">&quot;Max is  &quot;</span><span class="p">,</span> <span class="n">x</span><span class="o">.</span><span class="n">max</span><span class="p">()</span>
<span class="nb">print</span> <span class="s2">&quot;Min is  &quot;</span><span class="p">,</span> <span class="n">x</span><span class="o">.</span><span class="n">min</span><span class="p">()</span>
<span class="nb">print</span> <span class="s2">&quot;Mean is &quot;</span><span class="p">,</span> <span class="n">x</span><span class="o">.</span><span class="n">mean</span><span class="p">()</span>
</pre></div>

</div>
</div>
</div>

<div class="output_wrapper">
<div class="output">


<div class="output_area">

<div class="prompt"></div>


<div class="output_subarea output_stream output_stdout output_text">
<pre>Max is   1.83976143009
Min is   1.00411079383
Mean is  1.48779363323
</pre>
</div>
</div>

</div>
</div>

</div>
<div class="cell border-box-sizing text_cell rendered"><div class="prompt input_prompt">
</div>
<div class="inner_cell">
<div class="text_cell_render border-box-sizing rendered_html">
<p>Call the <code>x.max</code> function again, but use the <code>axis</code> keyword to print the maximum of each row in x.</p>

</div>
</div>
</div>
<div class="cell border-box-sizing code_cell rendered">
<div class="input">
<div class="prompt input_prompt">In&nbsp;[6]:</div>
<div class="inner_cell">
    <div class="input_area">
<div class=" highlight hl-ipython3"><pre><span></span><span class="c1">#your code here</span>
<span class="nb">print</span> <span class="n">x</span><span class="o">.</span><span class="n">max</span><span class="p">(</span><span class="n">axis</span><span class="o">=</span><span class="mi">1</span><span class="p">)</span>
</pre></div>

</div>
</div>
</div>

<div class="output_wrapper">
<div class="output">


<div class="output_area">

<div class="prompt"></div>


<div class="output_subarea output_stream output_stdout output_text">
<pre>[ 1.76770539  1.83976143  1.65727647]
</pre>
</div>
</div>

</div>
</div>

</div>
<div class="cell border-box-sizing text_cell rendered"><div class="prompt input_prompt">
</div>
<div class="inner_cell">
<div class="text_cell_render border-box-sizing rendered_html">
<p>Here's a way to quickly simulate 500 coin "fair" coin tosses (where the probabily of getting Heads is 50%, or 0.5)</p>

</div>
</div>
</div>
<div class="cell border-box-sizing code_cell rendered">
<div class="input">
<div class="prompt input_prompt">In&nbsp;[7]:</div>
<div class="inner_cell">
    <div class="input_area">
<div class=" highlight hl-ipython3"><pre><span></span><span class="n">x</span> <span class="o">=</span> <span class="n">np</span><span class="o">.</span><span class="n">random</span><span class="o">.</span><span class="n">binomial</span><span class="p">(</span><span class="mi">500</span><span class="p">,</span> <span class="o">.</span><span class="mi">5</span><span class="p">)</span>
<span class="nb">print</span> <span class="s2">&quot;number of heads:&quot;</span><span class="p">,</span> <span class="n">x</span>
</pre></div>

</div>
</div>
</div>

<div class="output_wrapper">
<div class="output">


<div class="output_area">

<div class="prompt"></div>


<div class="output_subarea output_stream output_stdout output_text">
<pre>number of heads: 248
</pre>
</div>
</div>

</div>
</div>

</div>
<div class="cell border-box-sizing text_cell rendered"><div class="prompt input_prompt">
</div>
<div class="inner_cell">
<div class="text_cell_render border-box-sizing rendered_html">
<p>Repeat this simulation 500 times, and use the <a href="http://matplotlib.org/api/pyplot_api.html#matplotlib.pyplot.hist">plt.hist() function</a> to plot a histogram of the number of Heads (1s) in each simulation</p>

</div>
</div>
</div>
<div class="cell border-box-sizing code_cell rendered">
<div class="input">
<div class="prompt input_prompt">In&nbsp;[8]:</div>
<div class="inner_cell">
    <div class="input_area">
<div class=" highlight hl-ipython3"><pre><span></span><span class="c1">#your code here</span>

<span class="c1"># 3 ways to run the simulations</span>

<span class="c1"># loop</span>
<span class="n">heads</span> <span class="o">=</span> <span class="p">[]</span>
<span class="k">for</span> <span class="n">i</span> <span class="ow">in</span> <span class="nb">range</span><span class="p">(</span><span class="mi">500</span><span class="p">):</span>
    <span class="n">heads</span><span class="o">.</span><span class="n">append</span><span class="p">(</span><span class="n">np</span><span class="o">.</span><span class="n">random</span><span class="o">.</span><span class="n">binomial</span><span class="p">(</span><span class="mi">500</span><span class="p">,</span> <span class="o">.</span><span class="mi">5</span><span class="p">))</span>

<span class="c1"># &quot;list comprehension&quot;</span>
<span class="n">heads</span> <span class="o">=</span> <span class="p">[</span><span class="n">np</span><span class="o">.</span><span class="n">random</span><span class="o">.</span><span class="n">binomial</span><span class="p">(</span><span class="mi">500</span><span class="p">,</span> <span class="o">.</span><span class="mi">5</span><span class="p">)</span> <span class="k">for</span> <span class="n">i</span> <span class="ow">in</span> <span class="nb">range</span><span class="p">(</span><span class="mi">500</span><span class="p">)]</span>

<span class="c1"># pure numpy</span>
<span class="n">heads</span> <span class="o">=</span> <span class="n">np</span><span class="o">.</span><span class="n">random</span><span class="o">.</span><span class="n">binomial</span><span class="p">(</span><span class="mi">500</span><span class="p">,</span> <span class="o">.</span><span class="mi">5</span><span class="p">,</span> <span class="n">size</span><span class="o">=</span><span class="mi">500</span><span class="p">)</span>

<span class="n">histogram</span> <span class="o">=</span> <span class="n">plt</span><span class="o">.</span><span class="n">hist</span><span class="p">(</span><span class="n">heads</span><span class="p">,</span> <span class="n">bins</span><span class="o">=</span><span class="mi">10</span><span class="p">)</span>
</pre></div>

</div>
</div>
</div>

<div class="output_wrapper">
<div class="output">


<div class="output_area">

<div class="prompt"></div>




<div class="output_png output_subarea ">
<img src="data:image/png;base64,iVBORw0KGgoAAAANSUhEUgAAAXsAAAEACAYAAABS29YJAAAABHNCSVQICAgIfAhkiAAAAAlwSFlz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=
"
>
</div>

</div>

</div>
</div>

</div>
<div class="cell border-box-sizing code_cell rendered">
<div class="input">
<div class="prompt input_prompt">In&nbsp;[9]:</div>
<div class="inner_cell">
    <div class="input_area">
<div class=" highlight hl-ipython3"><pre><span></span><span class="n">heads</span><span class="o">.</span><span class="n">shape</span>
</pre></div>

</div>
</div>
</div>

<div class="output_wrapper">
<div class="output">


<div class="output_area">

<div class="prompt output_prompt">Out[9]:</div>




<div class="output_text output_subarea output_execute_result">
<pre>(500,)</pre>
</div>

</div>

</div>
</div>

</div>
<div class="cell border-box-sizing text_cell rendered"><div class="prompt input_prompt">
</div>
<div class="inner_cell">
<div class="text_cell_render border-box-sizing rendered_html">
<h2 id="The-Monty-Hall-Problem">The Monty Hall Problem<a class="anchor-link" href="#The-Monty-Hall-Problem">&#182;</a></h2><p>Here's a fun and perhaps surprising statistical riddle, and a good way to get some practice writing python functions</p>
<p>In a gameshow, contestants try to guess which of 3 closed doors contain a cash prize (goats are behind the other two doors). Of course, the odds of choosing the correct door are 1 in 3. As a twist, the host of the show occasionally opens a door after a contestant makes his or her choice. This door is always one of the two the contestant did not pick, and is also always one of the goat doors (note that it is always possible to do this, since there are two goat doors). At this point, the contestant has the option of keeping his or her original choice, or swtiching to the other unopened door. The question is: is there any benefit to switching doors? The answer surprises many people who haven't heard the question before.</p>
<p>We can answer the problem by running simulations in Python. We'll do it in several parts.</p>
<p>First, write a function called <code>simulate_prizedoor</code>. This function will simulate the location of the prize in many games -- see the detailed specification below:</p>

</div>
</div>
</div>
<div class="cell border-box-sizing code_cell rendered">
<div class="input">
<div class="prompt input_prompt">In&nbsp;[10]:</div>
<div class="inner_cell">
    <div class="input_area">
<div class=" highlight hl-ipython3"><pre><span></span><span class="sd">&quot;&quot;&quot;</span>
<span class="sd">Function</span>
<span class="sd">--------</span>
<span class="sd">simulate_prizedoor</span>

<span class="sd">Generate a random array of 0s, 1s, and 2s, representing</span>
<span class="sd">hiding a prize between door 0, door 1, and door 2</span>

<span class="sd">Parameters</span>
<span class="sd">----------</span>
<span class="sd">nsim : int</span>
<span class="sd">    The number of simulations to run</span>

<span class="sd">Returns</span>
<span class="sd">-------</span>
<span class="sd">sims : array</span>
<span class="sd">    Random array of 0s, 1s, and 2s</span>

<span class="sd">Example</span>
<span class="sd">-------</span>
<span class="sd">&gt;&gt;&gt; print simulate_prizedoor(3)</span>
<span class="sd">array([0, 0, 2])</span>
<span class="sd">&quot;&quot;&quot;</span>
<span class="k">def</span> <span class="nf">simulate_prizedoor</span><span class="p">(</span><span class="n">nsim</span><span class="p">):</span>
    <span class="c1">#compute here</span>
    <span class="k">return</span> <span class="n">answer</span>
<span class="c1">#your code here</span>

<span class="k">def</span> <span class="nf">simulate_prizedoor</span><span class="p">(</span><span class="n">nsim</span><span class="p">):</span>
    <span class="k">return</span> <span class="n">np</span><span class="o">.</span><span class="n">random</span><span class="o">.</span><span class="n">randint</span><span class="p">(</span><span class="mi">0</span><span class="p">,</span> <span class="mi">3</span><span class="p">,</span> <span class="p">(</span><span class="n">nsim</span><span class="p">))</span>
</pre></div>

</div>
</div>
</div>

</div>
<div class="cell border-box-sizing text_cell rendered"><div class="prompt input_prompt">
</div>
<div class="inner_cell">
<div class="text_cell_render border-box-sizing rendered_html">
<p>Next, write a function that simulates the contestant's guesses for <code>nsim</code> simulations. Call this function <code>simulate_guess</code>. The specs:</p>

</div>
</div>
</div>
<div class="cell border-box-sizing code_cell rendered">
<div class="input">
<div class="prompt input_prompt">In&nbsp;[11]:</div>
<div class="inner_cell">
    <div class="input_area">
<div class=" highlight hl-ipython3"><pre><span></span><span class="sd">&quot;&quot;&quot;</span>
<span class="sd">Function</span>
<span class="sd">--------</span>
<span class="sd">simulate_guess</span>

<span class="sd">Return any strategy for guessing which door a prize is behind. This</span>
<span class="sd">could be a random strategy, one that always guesses 2, whatever.</span>

<span class="sd">Parameters</span>
<span class="sd">----------</span>
<span class="sd">nsim : int</span>
<span class="sd">    The number of simulations to generate guesses for</span>

<span class="sd">Returns</span>
<span class="sd">-------</span>
<span class="sd">guesses : array</span>
<span class="sd">    An array of guesses. Each guess is a 0, 1, or 2</span>

<span class="sd">Example</span>
<span class="sd">-------</span>
<span class="sd">&gt;&gt;&gt; print simulate_guess(5)</span>
<span class="sd">array([0, 0, 0, 0, 0])</span>
<span class="sd">&quot;&quot;&quot;</span>
<span class="c1">#your code here</span>

<span class="k">def</span> <span class="nf">simulate_guess</span><span class="p">(</span><span class="n">nsim</span><span class="p">):</span>
    <span class="k">return</span> <span class="n">np</span><span class="o">.</span><span class="n">zeros</span><span class="p">(</span><span class="n">nsim</span><span class="p">,</span> <span class="n">dtype</span><span class="o">=</span><span class="n">np</span><span class="o">.</span><span class="n">int</span><span class="p">)</span>
</pre></div>

</div>
</div>
</div>

</div>
<div class="cell border-box-sizing text_cell rendered"><div class="prompt input_prompt">
</div>
<div class="inner_cell">
<div class="text_cell_render border-box-sizing rendered_html">
<p>Next, write a function, <code>goat_door</code>, to simulate randomly revealing one of the goat doors that a contestant didn't pick.</p>

</div>
</div>
</div>
<div class="cell border-box-sizing code_cell rendered">
<div class="input">
<div class="prompt input_prompt">In&nbsp;[12]:</div>
<div class="inner_cell">
    <div class="input_area">
<div class=" highlight hl-ipython3"><pre><span></span><span class="sd">&quot;&quot;&quot;</span>
<span class="sd">Function</span>
<span class="sd">--------</span>
<span class="sd">goat_door</span>

<span class="sd">Simulate the opening of a &quot;goat door&quot; that doesn&#39;t contain the prize,</span>
<span class="sd">and is different from the contestants guess</span>

<span class="sd">Parameters</span>
<span class="sd">----------</span>
<span class="sd">prizedoors : array</span>
<span class="sd">    The door that the prize is behind in each simulation</span>
<span class="sd">guesses : array</span>
<span class="sd">    THe door that the contestant guessed in each simulation</span>

<span class="sd">Returns</span>
<span class="sd">-------</span>
<span class="sd">goats : array</span>
<span class="sd">    The goat door that is opened for each simulation. Each item is 0, 1, or 2, and is different</span>
<span class="sd">    from both prizedoors and guesses</span>

<span class="sd">Examples</span>
<span class="sd">--------</span>
<span class="sd">&gt;&gt;&gt; print goat_door(np.array([0, 1, 2]), np.array([1, 1, 1]))</span>
<span class="sd">&gt;&gt;&gt; array([2, 2, 0])</span>
<span class="sd">&quot;&quot;&quot;</span>
<span class="c1">#your code here</span>

<span class="k">def</span> <span class="nf">goat_door</span><span class="p">(</span><span class="n">prizedoors</span><span class="p">,</span> <span class="n">guesses</span><span class="p">):</span>
    
    <span class="c1">#strategy: generate random answers, and</span>
    <span class="c1">#keep updating until they satisfy the rule</span>
    <span class="c1">#that they aren&#39;t a prizedoor or a guess</span>
    <span class="n">result</span> <span class="o">=</span> <span class="n">np</span><span class="o">.</span><span class="n">random</span><span class="o">.</span><span class="n">randint</span><span class="p">(</span><span class="mi">0</span><span class="p">,</span> <span class="mi">3</span><span class="p">,</span> <span class="n">prizedoors</span><span class="o">.</span><span class="n">size</span><span class="p">)</span>
    <span class="k">while</span> <span class="kc">True</span><span class="p">:</span>
        <span class="n">bad</span> <span class="o">=</span> <span class="p">(</span><span class="n">result</span> <span class="o">==</span> <span class="n">prizedoors</span><span class="p">)</span> <span class="o">|</span> <span class="p">(</span><span class="n">result</span> <span class="o">==</span> <span class="n">guesses</span><span class="p">)</span>
        <span class="k">if</span> <span class="ow">not</span> <span class="n">bad</span><span class="o">.</span><span class="n">any</span><span class="p">():</span>
            <span class="k">return</span> <span class="n">result</span>
        <span class="n">result</span><span class="p">[</span><span class="n">bad</span><span class="p">]</span> <span class="o">=</span> <span class="n">np</span><span class="o">.</span><span class="n">random</span><span class="o">.</span><span class="n">randint</span><span class="p">(</span><span class="mi">0</span><span class="p">,</span> <span class="mi">3</span><span class="p">,</span> <span class="n">bad</span><span class="o">.</span><span class="n">sum</span><span class="p">())</span>
</pre></div>

</div>
</div>
</div>

</div>
<div class="cell border-box-sizing text_cell rendered"><div class="prompt input_prompt">
</div>
<div class="inner_cell">
<div class="text_cell_render border-box-sizing rendered_html">
<p>Write a function, <code>switch_guess</code>, that represents the strategy of always switching a guess after the goat door is opened.</p>

</div>
</div>
</div>
<div class="cell border-box-sizing code_cell rendered">
<div class="input">
<div class="prompt input_prompt">In&nbsp;[13]:</div>
<div class="inner_cell">
    <div class="input_area">
<div class=" highlight hl-ipython3"><pre><span></span><span class="sd">&quot;&quot;&quot;</span>
<span class="sd">Function</span>
<span class="sd">--------</span>
<span class="sd">switch_guess</span>

<span class="sd">The strategy that always switches a guess after the goat door is opened</span>

<span class="sd">Parameters</span>
<span class="sd">----------</span>
<span class="sd">guesses : array</span>
<span class="sd">     Array of original guesses, for each simulation</span>
<span class="sd">goatdoors : array</span>
<span class="sd">     Array of revealed goat doors for each simulation</span>

<span class="sd">Returns</span>
<span class="sd">-------</span>
<span class="sd">The new door after switching. Should be different from both guesses and goatdoors</span>

<span class="sd">Examples</span>
<span class="sd">--------</span>
<span class="sd">&gt;&gt;&gt; print switch_guess(np.array([0, 1, 2]), np.array([1, 2, 1]))</span>
<span class="sd">&gt;&gt;&gt; array([2, 0, 0])</span>
<span class="sd">&quot;&quot;&quot;</span>
<span class="c1">#your code here</span>

<span class="k">def</span> <span class="nf">switch_guess</span><span class="p">(</span><span class="n">guesses</span><span class="p">,</span> <span class="n">goatdoors</span><span class="p">):</span>
    <span class="n">result</span> <span class="o">=</span> <span class="n">np</span><span class="o">.</span><span class="n">zeros</span><span class="p">(</span><span class="n">guesses</span><span class="o">.</span><span class="n">size</span><span class="p">)</span>
    <span class="n">switch</span> <span class="o">=</span> <span class="p">{(</span><span class="mi">0</span><span class="p">,</span> <span class="mi">1</span><span class="p">):</span> <span class="mi">2</span><span class="p">,</span> <span class="p">(</span><span class="mi">0</span><span class="p">,</span> <span class="mi">2</span><span class="p">):</span> <span class="mi">1</span><span class="p">,</span> <span class="p">(</span><span class="mi">1</span><span class="p">,</span> <span class="mi">0</span><span class="p">):</span> <span class="mi">2</span><span class="p">,</span> <span class="p">(</span><span class="mi">1</span><span class="p">,</span> <span class="mi">2</span><span class="p">):</span> <span class="mi">0</span><span class="p">,</span> <span class="p">(</span><span class="mi">2</span><span class="p">,</span> <span class="mi">0</span><span class="p">):</span> <span class="mi">1</span><span class="p">,</span> <span class="p">(</span><span class="mi">2</span><span class="p">,</span> <span class="mi">1</span><span class="p">):</span> <span class="mi">0</span><span class="p">}</span>
    <span class="k">for</span> <span class="n">i</span> <span class="ow">in</span> <span class="p">[</span><span class="mi">0</span><span class="p">,</span> <span class="mi">1</span><span class="p">,</span> <span class="mi">2</span><span class="p">]:</span>
        <span class="k">for</span> <span class="n">j</span> <span class="ow">in</span> <span class="p">[</span><span class="mi">0</span><span class="p">,</span> <span class="mi">1</span><span class="p">,</span> <span class="mi">2</span><span class="p">]:</span>
            <span class="n">mask</span> <span class="o">=</span> <span class="p">(</span><span class="n">guesses</span> <span class="o">==</span> <span class="n">i</span><span class="p">)</span> <span class="o">&amp;</span> <span class="p">(</span><span class="n">goatdoors</span> <span class="o">==</span> <span class="n">j</span><span class="p">)</span>
            <span class="k">if</span> <span class="ow">not</span> <span class="n">mask</span><span class="o">.</span><span class="n">any</span><span class="p">():</span>
                <span class="k">continue</span>
            <span class="n">result</span> <span class="o">=</span> <span class="n">np</span><span class="o">.</span><span class="n">where</span><span class="p">(</span><span class="n">mask</span><span class="p">,</span> <span class="n">np</span><span class="o">.</span><span class="n">ones_like</span><span class="p">(</span><span class="n">result</span><span class="p">)</span> <span class="o">*</span> <span class="n">switch</span><span class="p">[(</span><span class="n">i</span><span class="p">,</span> <span class="n">j</span><span class="p">)],</span> <span class="n">result</span><span class="p">)</span>
    <span class="k">return</span> <span class="n">result</span>
</pre></div>

</div>
</div>
</div>

</div>
<div class="cell border-box-sizing text_cell rendered"><div class="prompt input_prompt">
</div>
<div class="inner_cell">
<div class="text_cell_render border-box-sizing rendered_html">
<p>Last function: write a <code>win_percentage</code> function that takes an array of <code>guesses</code> and <code>prizedoors</code>, and returns the percent of correct guesses</p>

</div>
</div>
</div>
<div class="cell border-box-sizing code_cell rendered">
<div class="input">
<div class="prompt input_prompt">In&nbsp;[14]:</div>
<div class="inner_cell">
    <div class="input_area">
<div class=" highlight hl-ipython3"><pre><span></span><span class="sd">&quot;&quot;&quot;</span>
<span class="sd">Function</span>
<span class="sd">--------</span>
<span class="sd">win_percentage</span>

<span class="sd">Calculate the percent of times that a simulation of guesses is correct</span>

<span class="sd">Parameters</span>
<span class="sd">-----------</span>
<span class="sd">guesses : array</span>
<span class="sd">    Guesses for each simulation</span>
<span class="sd">prizedoors : array</span>
<span class="sd">    Location of prize for each simulation</span>

<span class="sd">Returns</span>
<span class="sd">--------</span>
<span class="sd">percentage : number between 0 and 100</span>
<span class="sd">    The win percentage</span>

<span class="sd">Examples</span>
<span class="sd">---------</span>
<span class="sd">&gt;&gt;&gt; print win_percentage(np.array([0, 1, 2]), np.array([0, 0, 0]))</span>
<span class="sd">33.333</span>
<span class="sd">&quot;&quot;&quot;</span>
<span class="c1">#your code here</span>

<span class="k">def</span> <span class="nf">win_percentage</span><span class="p">(</span><span class="n">guesses</span><span class="p">,</span> <span class="n">prizedoors</span><span class="p">):</span>
    <span class="k">return</span> <span class="mi">100</span> <span class="o">*</span> <span class="p">(</span><span class="n">guesses</span> <span class="o">==</span> <span class="n">prizedoors</span><span class="p">)</span><span class="o">.</span><span class="n">mean</span><span class="p">()</span>
</pre></div>

</div>
</div>
</div>

</div>
<div class="cell border-box-sizing text_cell rendered"><div class="prompt input_prompt">
</div>
<div class="inner_cell">
<div class="text_cell_render border-box-sizing rendered_html">
<p>Now, put it together. Simulate 10000 games where contestant keeps his original guess, and 10000 games where the contestant switches his door after a  goat door is revealed. Compute the percentage of time the contestant wins under either strategy. Is one strategy better than the other?</p>

</div>
</div>
</div>
<div class="cell border-box-sizing code_cell rendered">
<div class="input">
<div class="prompt input_prompt">In&nbsp;[17]:</div>
<div class="inner_cell">
    <div class="input_area">
<div class=" highlight hl-ipython3"><pre><span></span><span class="c1">#your code here</span>

<span class="n">nsim</span> <span class="o">=</span> <span class="mi">10000</span>

<span class="c1">#keep guesses</span>
<span class="nb">print</span> <span class="s2">&quot;Win percentage when keeping original door&quot;</span>
<span class="nb">print</span> <span class="n">win_percentage</span><span class="p">(</span><span class="n">simulate_prizedoor</span><span class="p">(</span><span class="n">nsim</span><span class="p">),</span> <span class="n">simulate_guess</span><span class="p">(</span><span class="n">nsim</span><span class="p">))</span>

<span class="c1">#switch</span>
<span class="n">pd</span> <span class="o">=</span> <span class="n">simulate_prizedoor</span><span class="p">(</span><span class="n">nsim</span><span class="p">)</span>
<span class="n">guess</span> <span class="o">=</span> <span class="n">simulate_guess</span><span class="p">(</span><span class="n">nsim</span><span class="p">)</span>
<span class="n">goats</span> <span class="o">=</span> <span class="n">goat_door</span><span class="p">(</span><span class="n">pd</span><span class="p">,</span> <span class="n">guess</span><span class="p">)</span>
<span class="n">guess</span> <span class="o">=</span> <span class="n">switch_guess</span><span class="p">(</span><span class="n">guess</span><span class="p">,</span> <span class="n">goats</span><span class="p">)</span>
<span class="nb">print</span> <span class="s2">&quot;Win percentage when switching doors&quot;</span>
<span class="nb">print</span> <span class="n">win_percentage</span><span class="p">(</span><span class="n">pd</span><span class="p">,</span> <span class="n">guess</span><span class="p">)</span><span class="o">.</span><span class="n">mean</span><span class="p">()</span>
</pre></div>

</div>
</div>
</div>

<div class="output_wrapper">
<div class="output">


<div class="output_area">

<div class="prompt"></div>


<div class="output_subarea output_stream output_stdout output_text">
<pre>Win percentage when keeping original door
33.09
Win percentage when switching doors
66.73
</pre>
</div>
</div>

</div>
</div>

</div>
<div class="cell border-box-sizing text_cell rendered"><div class="prompt input_prompt">
</div>
<div class="inner_cell">
<div class="text_cell_render border-box-sizing rendered_html">
<p>Many people find this answer counter-intuitive (famously, PhD mathematicians have incorrectly claimed the result must be wrong. Clearly, none of them knew Python).</p>
<p>One of the best ways to build intuition about why opening a Goat door affects the odds is to re-run the experiment with 100 doors and one prize. If the game show host opens 98 goat doors after you make your initial selection, would you want to keep your first pick or switch? Can you generalize your simulation code to handle the case of <code>n</code> doors?</p>

</div>
</div>
</div>
 


    </div>
  </div>

  </div>


  
    <footer class="footer hidden-print">
      <div class="container">
        <div class="col-md-4">
          <p>
            This website does not host notebooks, it only renders notebooks
            available on other websites.
          </p>
        </div>

        <div class="col-md-4">
          <p>
            Delivered by <a href="http://www.fastly.com/">Fastly</a>,
            Rendered by <a href="https://developer.rackspace.com/?nbviewer=awesome">Rackspace</a>
          </p>
          <p>
            nbviewer GitHub <a href="https://github.com/jupyter/nbviewer">repository</a>.
          </p>
        </div>

        <div class="col-md-4">
          
  
            
              <p>
                nbviewer version:
                <a href="https://github.com/jupyter/nbviewer/commit/aa567da928dd022ce6a75b6c131a5ef3ff5c211a">
                  aa567da
                </a>
              </p>
            
          
  
  <p>
    nbconvert version: <a href="https://github.com/jupyter/nbconvert/releases/tag/5.3.1">
      5.3.1
    </a>
  </p>
  

          
  
  
  <p>
    Rendered
    <span class='date' data-date='Wed, 20 Mar 2019 23:09:28 UTC' title='Wed, 20 Mar 2019 23:09:28 UTC'>(Wed, 20 Mar 2019 23:09:28 UTC)</span>
  </p>
  

        </div>
      </div>
    </footer>
  

  <script data-cfasync="false" src="/cdn-cgi/scripts/5c5dd728/cloudflare-static/email-decode.min.js"></script><script src="/static/components/bootstrap/js/bootstrap.min.js?v=5869c96cc8f19086aee625d670d741f9"></script>
  <script src="/static/components/headroom.js/dist/headroom.min.js?v=b0a311ea668f8e768ea375f4a7abb81c"></script>
  <script src="/static/components/headroom.js/dist/jQuery.headroom.min.js?v=f3a1bae118315d0c234afc74dc6aab71"></script>

  
  
  <script>
    $(function(){ $("#menubar").headroom({
      tolerance: 5,
      offset: 205,
      classes: {
        initial: "animated",
        pinned: "slideInDown",
        unpinned: "slideOutUp"
      }
    })});
  </script>


  
  <script>
    (function(i,s,o,g,r,a,m){i['GoogleAnalyticsObject']=r;i[r]=i[r]||function(){
      (i[r].q=i[r].q||[]).push(arguments)},i[r].l=1*new Date();a=s.createElement(o),
      m=s.getElementsByTagName(o)[0];a.async=1;a.src=g;m.parentNode.insertBefore(a,m)
    })(window,document,'script','https://www.google-analytics.com/analytics.js','ga');
    ga('create', 'UA-52617120-5', 'auto',
       {'storage': 'none'});
    ga('set', 'anonymizeIp', true);
    ga('send', 'pageview');
  </script>
  
  <script>
    require({
        paths: {
          moment: "/static/components/moment/min/moment.min.js?v=89f87298ad94aa1e6b92f42eb66da043"
        }
      }, ["moment"], function(moment){
      var date = $("footer .date"),
        m = moment(new Date(date.data('date'))),
        update = function(){ date.text(m.fromNow()); };
      setInterval(update, 61*1000);
      update();
      var w = $(window).scroll(function(event){
        $("body").toggleClass("scrolled", w.scrollTop() > 0);
      });
    });
  </script>

  <!--NEW RELIC Stop Perf Measurement-->
  
  <!--NEW RELIC End-->
</body>
</html>