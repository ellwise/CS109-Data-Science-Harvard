{
 "cells": [
  {
   "cell_type": "markdown",
   "metadata": {},
   "source": [
    "Work out a framework for implementing iterative methods (e.g. k-means) in the same manner as that great Julia blog post I saw. \"Iterative methods done right\" (https://lostella.github.io/2018/07/25/iterative-methods-done-right.html)\n",
    "\n",
    "Look into using Julia as a data science language! Turing institute has released WSJ I think...\n",
    "\n",
    "Clustering: Single linkage prone to chaining (and big clusters grow bigger), complete linkage is sensitive to outliers (but gives balanced cluster sizes)\n",
    "\n",
    "Video clustering: Treat video as 4D, look at pixel similarity, save a whole hierarchical tree and let the user choose the threshold. Hierarchical clustering is fast.\n",
    "\n",
    "Scikit-learn can include connectivity in clustering, meaning clusters must be adjacent.\n",
    "\n",
    "Clustering evaluation: stability can be tested by clustering a test set, using the resulting labels for a supervised model, then checking the performance of the supervised method on a validation set."
   ]
  },
  {
   "cell_type": "markdown",
   "metadata": {},
   "source": [
    "# Cheatsheet\n",
    "\n",
    "## Scraping\n",
    "## Visualisation\n",
    "## Pandas and SQLite\n",
    "## Probability and Distributions\n",
    "## Regression\n",
    "## Classification\n",
    "## Ensembles\n",
    "## Bayes\n",
    "## Text and clustering\n",
    "## Deep neural networks\n",
    "\n",
    "```python\n",
    "from sklearn import SOMETHING\n",
    "```"
   ]
  },
  {
   "cell_type": "code",
   "execution_count": null,
   "metadata": {},
   "outputs": [],
   "source": []
  }
 ],
 "metadata": {
  "kernelspec": {
   "display_name": "Python 3",
   "language": "python",
   "name": "python3"
  },
  "language_info": {
   "codemirror_mode": {
    "name": "ipython",
    "version": 3
   },
   "file_extension": ".py",
   "mimetype": "text/x-python",
   "name": "python",
   "nbconvert_exporter": "python",
   "pygments_lexer": "ipython3",
   "version": "3.6.5"
  }
 },
 "nbformat": 4,
 "nbformat_minor": 2
}
