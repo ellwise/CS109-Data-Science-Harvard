{
 "cells": [
  {
   "cell_type": "markdown",
   "metadata": {},
   "source": [
    "# Cheatsheet\n",
    "\n",
    "## Scraping\n",
    "## Visualisation\n",
    "## Pandas and SQLite\n",
    "## Probability and Distributions\n",
    "## Regression\n",
    "## Classification\n",
    "## Ensembles\n",
    "## Bayes\n",
    "## Text and clustering\n",
    "## Deep neural networks\n",
    "\n",
    "```python\n",
    "from sklearn import SOMETHING\n",
    "```"
   ]
  },
  {
   "cell_type": "code",
   "execution_count": null,
   "metadata": {},
   "outputs": [],
   "source": []
  }
 ],
 "metadata": {
  "kernelspec": {
   "display_name": "Python 3",
   "language": "python",
   "name": "python3"
  },
  "language_info": {
   "codemirror_mode": {
    "name": "ipython",
    "version": 3
   },
   "file_extension": ".py",
   "mimetype": "text/x-python",
   "name": "python",
   "nbconvert_exporter": "python",
   "pygments_lexer": "ipython3",
   "version": "3.6.5"
  }
 },
 "nbformat": 4,
 "nbformat_minor": 2
}
